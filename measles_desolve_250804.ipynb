{
 "cells": [
  {
   "cell_type": "markdown",
   "id": "5764e9c6",
   "metadata": {},
   "source": [
    "# Measles vaccination - deSolve (28/07/25)"
   ]
  },
  {
   "cell_type": "markdown",
   "id": "0a5d8167",
   "metadata": {
    "vscode": {
     "languageId": "r"
    }
   },
   "source": [
    "## Model compartments\n",
    "![alt text](measles_seir.png) <br/>\n",
    "$b$: avg birth rate per day <br/>\n",
    "$c$: vaccine coverage <br/>\n",
    "$\\lambda$: force of infection <br/>\n",
    "$f$: avg rate of being infectious <br/>\n",
    "$r$: avg rate of recovery <br/>\n",
    "$\\mu$: avg death rate per day\n"
   ]
  },
  {
   "cell_type": "markdown",
   "id": "be0f843b",
   "metadata": {},
   "source": [
    "## Difference equations\n",
    "$$\n",
    "S_{t+1}=((1-c) * b * N) + S_t - (\\lambda_t * S_t) - (\\mu * S_t)\n",
    "$$\n",
    "$$\n",
    "E_{t+1}=E_t+(\\lambda_t*S_t)-(f*E_t)-(\\mu*E_t)\n",
    "$$\n",
    "$$\n",
    "I_{t+1}=I_t+(f*E_t)-(r*I_t)-(\\mu*I_t)\n",
    "$$\n",
    "$$\n",
    "R_{t+1}=(c*b*N)+R_t+(r*I_t)-(\\mu*R_t)\n",
    "$$"
   ]
  },
  {
   "cell_type": "markdown",
   "id": "62032d7b",
   "metadata": {
    "vscode": {
     "languageId": "r"
    }
   },
   "source": [
    "## Differential equations\n",
    "$$\n",
    "\\frac{dS}{dt}=((1-c)*b*N)-(\\lambda_t*S_t)-(\\mu*S_t)\n",
    "$$\n",
    "$$\n",
    "\\frac{dE}{dt}=(\\lambda_t*S_t)-(f*E_t)-(\\mu*E_t)\n",
    "$$\n",
    "$$\n",
    "\\frac{dI}{dt}=(f*E_t)-(r*I_t)-(\\mu*I_t)\n",
    "$$\n",
    "$$\n",
    "\\frac{dR}{dt}=(c*b*N)+(r*I_t)-(\\mu*R_t)\n",
    "$$"
   ]
  },
  {
   "cell_type": "code",
   "execution_count": 1,
   "id": "386cc508",
   "metadata": {
    "vscode": {
     "languageId": "r"
    }
   },
   "outputs": [],
   "source": [
    "library(deSolve)\n",
    "library(reshape2)\n",
    "library(ggplot2)"
   ]
  },
  {
   "cell_type": "code",
   "execution_count": 2,
   "id": "353f09c5",
   "metadata": {
    "vscode": {
     "languageId": "r"
    }
   },
   "outputs": [
    {
     "data": {
      "text/html": [
       "<table class=\"dataframe\">\n",
       "<caption>A data.frame: 10 × 9</caption>\n",
       "<thead>\n",
       "\t<tr><th></th><th scope=col>time</th><th scope=col>S</th><th scope=col>E</th><th scope=col>I</th><th scope=col>R</th><th scope=col>C</th><th scope=col>V</th><th scope=col>daily_cases</th><th scope=col>daily_vacc</th></tr>\n",
       "\t<tr><th></th><th scope=col>&lt;dbl&gt;</th><th scope=col>&lt;dbl&gt;</th><th scope=col>&lt;dbl&gt;</th><th scope=col>&lt;dbl&gt;</th><th scope=col>&lt;dbl&gt;</th><th scope=col>&lt;dbl&gt;</th><th scope=col>&lt;dbl&gt;</th><th scope=col>&lt;dbl&gt;</th><th scope=col>&lt;dbl&gt;</th></tr>\n",
       "</thead>\n",
       "<tbody>\n",
       "\t<tr><th scope=row>1</th><td>0</td><td>89999.00</td><td> 0.000000</td><td>1.0000000</td><td>10000.00</td><td> 0.000000</td><td>10000.00</td><td> 0.000000</td><td>1.000000e+04</td></tr>\n",
       "\t<tr><th scope=row>2</th><td>1</td><td>89997.39</td><td> 1.515697</td><td>0.9596823</td><td>10000.14</td><td> 1.613111</td><td>10000.39</td><td> 1.613111</td><td>3.913894e-01</td></tr>\n",
       "\t<tr><th scope=row>3</th><td>2</td><td>89995.69</td><td> 2.933648</td><td>1.0925381</td><td>10000.28</td><td> 3.308755</td><td>10000.78</td><td> 1.695644</td><td>3.913894e-01</td></tr>\n",
       "\t<tr><th scope=row>4</th><td>3</td><td>89993.64</td><td> 4.518681</td><td>1.3805200</td><td>10000.46</td><td> 5.356746</td><td>10001.17</td><td> 2.047991</td><td>3.913894e-01</td></tr>\n",
       "\t<tr><th scope=row>5</th><td>4</td><td>89990.98</td><td> 6.501839</td><td>1.8362832</td><td>10000.68</td><td> 8.023543</td><td>10001.57</td><td> 2.666797</td><td>3.913894e-01</td></tr>\n",
       "\t<tr><th scope=row>6</th><td>5</td><td>89987.38</td><td> 9.127724</td><td>2.4981181</td><td>10000.99</td><td>11.618475</td><td>10001.96</td><td> 3.594931</td><td>3.913894e-01</td></tr>\n",
       "\t<tr><th scope=row>7</th><td>6</td><td>89982.47</td><td>12.692983</td><td>3.4304522</td><td>10001.41</td><td>16.536363</td><td>10002.35</td><td> 4.917889</td><td>3.913894e-01</td></tr>\n",
       "\t<tr><th scope=row>8</th><td>7</td><td>89975.70</td><td>17.584590</td><td>4.7286821</td><td>10001.99</td><td>23.304680</td><td>10002.74</td><td> 6.768317</td><td>3.913894e-01</td></tr>\n",
       "\t<tr><th scope=row>9</th><td>8</td><td>89966.36</td><td>24.324449</td><td>6.5281382</td><td>10002.79</td><td>32.642131</td><td>10003.13</td><td> 9.337450</td><td>3.913894e-01</td></tr>\n",
       "\t<tr><th scope=row>10</th><td>9</td><td>89953.47</td><td>33.626383</td><td>9.0177336</td><td>10003.89</td><td>45.535917</td><td>10003.52</td><td>12.893786</td><td>3.913894e-01</td></tr>\n",
       "</tbody>\n",
       "</table>\n"
      ],
      "text/latex": [
       "A data.frame: 10 × 9\n",
       "\\begin{tabular}{r|lllllllll}\n",
       "  & time & S & E & I & R & C & V & daily\\_cases & daily\\_vacc\\\\\n",
       "  & <dbl> & <dbl> & <dbl> & <dbl> & <dbl> & <dbl> & <dbl> & <dbl> & <dbl>\\\\\n",
       "\\hline\n",
       "\t1 & 0 & 89999.00 &  0.000000 & 1.0000000 & 10000.00 &  0.000000 & 10000.00 &  0.000000 & 1.000000e+04\\\\\n",
       "\t2 & 1 & 89997.39 &  1.515697 & 0.9596823 & 10000.14 &  1.613111 & 10000.39 &  1.613111 & 3.913894e-01\\\\\n",
       "\t3 & 2 & 89995.69 &  2.933648 & 1.0925381 & 10000.28 &  3.308755 & 10000.78 &  1.695644 & 3.913894e-01\\\\\n",
       "\t4 & 3 & 89993.64 &  4.518681 & 1.3805200 & 10000.46 &  5.356746 & 10001.17 &  2.047991 & 3.913894e-01\\\\\n",
       "\t5 & 4 & 89990.98 &  6.501839 & 1.8362832 & 10000.68 &  8.023543 & 10001.57 &  2.666797 & 3.913894e-01\\\\\n",
       "\t6 & 5 & 89987.38 &  9.127724 & 2.4981181 & 10000.99 & 11.618475 & 10001.96 &  3.594931 & 3.913894e-01\\\\\n",
       "\t7 & 6 & 89982.47 & 12.692983 & 3.4304522 & 10001.41 & 16.536363 & 10002.35 &  4.917889 & 3.913894e-01\\\\\n",
       "\t8 & 7 & 89975.70 & 17.584590 & 4.7286821 & 10001.99 & 23.304680 & 10002.74 &  6.768317 & 3.913894e-01\\\\\n",
       "\t9 & 8 & 89966.36 & 24.324449 & 6.5281382 & 10002.79 & 32.642131 & 10003.13 &  9.337450 & 3.913894e-01\\\\\n",
       "\t10 & 9 & 89953.47 & 33.626383 & 9.0177336 & 10003.89 & 45.535917 & 10003.52 & 12.893786 & 3.913894e-01\\\\\n",
       "\\end{tabular}\n"
      ],
      "text/markdown": [
       "\n",
       "A data.frame: 10 × 9\n",
       "\n",
       "| <!--/--> | time &lt;dbl&gt; | S &lt;dbl&gt; | E &lt;dbl&gt; | I &lt;dbl&gt; | R &lt;dbl&gt; | C &lt;dbl&gt; | V &lt;dbl&gt; | daily_cases &lt;dbl&gt; | daily_vacc &lt;dbl&gt; |\n",
       "|---|---|---|---|---|---|---|---|---|---|\n",
       "| 1 | 0 | 89999.00 |  0.000000 | 1.0000000 | 10000.00 |  0.000000 | 10000.00 |  0.000000 | 1.000000e+04 |\n",
       "| 2 | 1 | 89997.39 |  1.515697 | 0.9596823 | 10000.14 |  1.613111 | 10000.39 |  1.613111 | 3.913894e-01 |\n",
       "| 3 | 2 | 89995.69 |  2.933648 | 1.0925381 | 10000.28 |  3.308755 | 10000.78 |  1.695644 | 3.913894e-01 |\n",
       "| 4 | 3 | 89993.64 |  4.518681 | 1.3805200 | 10000.46 |  5.356746 | 10001.17 |  2.047991 | 3.913894e-01 |\n",
       "| 5 | 4 | 89990.98 |  6.501839 | 1.8362832 | 10000.68 |  8.023543 | 10001.57 |  2.666797 | 3.913894e-01 |\n",
       "| 6 | 5 | 89987.38 |  9.127724 | 2.4981181 | 10000.99 | 11.618475 | 10001.96 |  3.594931 | 3.913894e-01 |\n",
       "| 7 | 6 | 89982.47 | 12.692983 | 3.4304522 | 10001.41 | 16.536363 | 10002.35 |  4.917889 | 3.913894e-01 |\n",
       "| 8 | 7 | 89975.70 | 17.584590 | 4.7286821 | 10001.99 | 23.304680 | 10002.74 |  6.768317 | 3.913894e-01 |\n",
       "| 9 | 8 | 89966.36 | 24.324449 | 6.5281382 | 10002.79 | 32.642131 | 10003.13 |  9.337450 | 3.913894e-01 |\n",
       "| 10 | 9 | 89953.47 | 33.626383 | 9.0177336 | 10003.89 | 45.535917 | 10003.52 | 12.893786 | 3.913894e-01 |\n",
       "\n"
      ],
      "text/plain": [
       "   time S        E         I         R        C         V        daily_cases\n",
       "1  0    89999.00  0.000000 1.0000000 10000.00  0.000000 10000.00  0.000000  \n",
       "2  1    89997.39  1.515697 0.9596823 10000.14  1.613111 10000.39  1.613111  \n",
       "3  2    89995.69  2.933648 1.0925381 10000.28  3.308755 10000.78  1.695644  \n",
       "4  3    89993.64  4.518681 1.3805200 10000.46  5.356746 10001.17  2.047991  \n",
       "5  4    89990.98  6.501839 1.8362832 10000.68  8.023543 10001.57  2.666797  \n",
       "6  5    89987.38  9.127724 2.4981181 10000.99 11.618475 10001.96  3.594931  \n",
       "7  6    89982.47 12.692983 3.4304522 10001.41 16.536363 10002.35  4.917889  \n",
       "8  7    89975.70 17.584590 4.7286821 10001.99 23.304680 10002.74  6.768317  \n",
       "9  8    89966.36 24.324449 6.5281382 10002.79 32.642131 10003.13  9.337450  \n",
       "10 9    89953.47 33.626383 9.0177336 10003.89 45.535917 10003.52 12.893786  \n",
       "   daily_vacc  \n",
       "1  1.000000e+04\n",
       "2  3.913894e-01\n",
       "3  3.913894e-01\n",
       "4  3.913894e-01\n",
       "5  3.913894e-01\n",
       "6  3.913894e-01\n",
       "7  3.913894e-01\n",
       "8  3.913894e-01\n",
       "9  3.913894e-01\n",
       "10 3.913894e-01"
      ]
     },
     "metadata": {},
     "output_type": "display_data"
    }
   ],
   "source": [
    "# To define model inputs\n",
    "N <- 1e5\n",
    "ecr <- 1.86 # Effective contact rate\n",
    "beta <- ecr / N\n",
    "dur_lat <- 8 # Avg duration of latency (days)\n",
    "f <- 1 / dur_lat # Avg rate of being infectious\n",
    "dur_inf <- 7 # Avg duration of infectiousness (days)\n",
    "r <- 1 / dur_inf # Avg rate of recovery\n",
    "life_exp <- 70 # Avg life expectancy (years)\n",
    "mu <- 1 / life_exp / 365 # Avg death rate per day\n",
    "b <- 1 / life_exp / 365 # Avg birth rate per day, assuming mu=b\n",
    "c <- 0.1 # Vaccine coverage\n",
    "parms <- c(beta = beta, f = f, r = r, mu = mu, c = c, b = b)\n",
    "ini_state_values <- c(\n",
    "    S = N - 1 - c * N,\n",
    "    E = 0,\n",
    "    I = 1,\n",
    "    R = c * N,\n",
    "    C = 0,\n",
    "    V = c * N)\n",
    "times <- seq(from = 0, to = 200, by = 1)\n",
    "\n",
    "# To define SEIR model\n",
    "seir_model <- function(time, state, parameters){\n",
    "    with(as.list(c(state, parameters)),{\n",
    "        N <- S + E + I + R\n",
    "        lambda <- beta * I\n",
    "        cum_cases <- lambda * S\n",
    "        cum_vacc <- c * b * N\n",
    "        dS <- ((1 - c) * b * N) - lambda * S - mu * S\n",
    "        dE <- lambda * S - f * E - mu * E\n",
    "        dI <- f * E - r * I - mu * I\n",
    "        dR <- (c * b * N) + r * I - mu * R\n",
    "        dC <- cum_cases # To calculate cumulative cases\n",
    "        dV <- cum_vacc # To calculate cumulative vaccinations\n",
    "        return(list(c(dS, dE, dI, dR, dC, dV)))\n",
    "    })\n",
    "}\n",
    "df <- as.data.frame(ode(\n",
    "    y = ini_state_values,\n",
    "    times = times,\n",
    "    func = seir_model,\n",
    "    parms = parms))\n",
    "\n",
    "# To calculate daily cases\n",
    "df$daily_cases <- c(0, diff(df[[\"C\"]]))\n",
    "df$daily_vacc <- c(c * N, diff(df[[\"V\"]]))\n",
    " \n",
    "# To preview dataframe\n",
    "head(df, 10)"
   ]
  },
  {
   "cell_type": "code",
   "execution_count": null,
   "id": "bdf2a10a",
   "metadata": {
    "vscode": {
     "languageId": "r"
    }
   },
   "outputs": [
    {
     "data": {
      "text/html": [
       "<table class=\"dataframe\">\n",
       "<caption>A data.frame: 10 × 16</caption>\n",
       "<thead>\n",
       "\t<tr><th></th><th scope=col>time</th><th scope=col>S</th><th scope=col>E</th><th scope=col>I</th><th scope=col>R</th><th scope=col>C</th><th scope=col>V</th><th scope=col>daily_cases</th><th scope=col>daily_vacc</th><th scope=col>cost_cases</th><th scope=col>cost_vacc</th><th scope=col>qaly_lost</th><th scope=col>disc_factor</th><th scope=col>disc_cost_cases</th><th scope=col>disc_cost_vacc</th><th scope=col>disc_qaly_lost</th></tr>\n",
       "\t<tr><th></th><th scope=col>&lt;dbl&gt;</th><th scope=col>&lt;dbl&gt;</th><th scope=col>&lt;dbl&gt;</th><th scope=col>&lt;dbl&gt;</th><th scope=col>&lt;dbl&gt;</th><th scope=col>&lt;dbl&gt;</th><th scope=col>&lt;dbl&gt;</th><th scope=col>&lt;dbl&gt;</th><th scope=col>&lt;dbl&gt;</th><th scope=col>&lt;dbl&gt;</th><th scope=col>&lt;dbl&gt;</th><th scope=col>&lt;dbl&gt;</th><th scope=col>&lt;dbl&gt;</th><th scope=col>&lt;dbl&gt;</th><th scope=col>&lt;dbl&gt;</th><th scope=col>&lt;dbl&gt;</th></tr>\n",
       "</thead>\n",
       "<tbody>\n",
       "\t<tr><th scope=row>1</th><td>0</td><td>89999.00</td><td> 0.000000</td><td>1.0000000</td><td>10000.00</td><td> 0.000000</td><td>10000.00</td><td> 0.000000</td><td>1.000000e+04</td><td>  0.00000</td><td>50000.000000</td><td>0.0000000</td><td>1.0000000</td><td>  0.00000</td><td>50000.000000</td><td>0.0000000</td></tr>\n",
       "\t<tr><th scope=row>2</th><td>1</td><td>89997.39</td><td> 1.515697</td><td>0.9596823</td><td>10000.14</td><td> 1.613111</td><td>10000.39</td><td> 1.613111</td><td>3.913894e-01</td><td> 32.26221</td><td>    1.956947</td><td>0.3226221</td><td>0.9999190</td><td> 32.25960</td><td>    1.956789</td><td>0.3225960</td></tr>\n",
       "\t<tr><th scope=row>3</th><td>2</td><td>89995.69</td><td> 2.933648</td><td>1.0925381</td><td>10000.28</td><td> 3.308755</td><td>10000.78</td><td> 1.695644</td><td>3.913894e-01</td><td> 33.91288</td><td>    1.956947</td><td>0.3391288</td><td>0.9998380</td><td> 33.90739</td><td>    1.956630</td><td>0.3390739</td></tr>\n",
       "\t<tr><th scope=row>4</th><td>3</td><td>89993.64</td><td> 4.518681</td><td>1.3805200</td><td>10000.46</td><td> 5.356746</td><td>10001.17</td><td> 2.047991</td><td>3.913894e-01</td><td> 40.95982</td><td>    1.956947</td><td>0.4095982</td><td>0.9997571</td><td> 40.94987</td><td>    1.956472</td><td>0.4094987</td></tr>\n",
       "\t<tr><th scope=row>5</th><td>4</td><td>89990.98</td><td> 6.501839</td><td>1.8362832</td><td>10000.68</td><td> 8.023543</td><td>10001.57</td><td> 2.666797</td><td>3.913894e-01</td><td> 53.33595</td><td>    1.956947</td><td>0.5333595</td><td>0.9996761</td><td> 53.31867</td><td>    1.956313</td><td>0.5331867</td></tr>\n",
       "\t<tr><th scope=row>6</th><td>5</td><td>89987.38</td><td> 9.127724</td><td>2.4981181</td><td>10000.99</td><td>11.618475</td><td>10001.96</td><td> 3.594931</td><td>3.913894e-01</td><td> 71.89863</td><td>    1.956947</td><td>0.7189863</td><td>0.9995952</td><td> 71.86952</td><td>    1.956155</td><td>0.7186952</td></tr>\n",
       "\t<tr><th scope=row>7</th><td>6</td><td>89982.47</td><td>12.692983</td><td>3.4304522</td><td>10001.41</td><td>16.536363</td><td>10002.35</td><td> 4.917889</td><td>3.913894e-01</td><td> 98.35777</td><td>    1.956947</td><td>0.9835777</td><td>0.9995142</td><td> 98.30999</td><td>    1.955997</td><td>0.9830999</td></tr>\n",
       "\t<tr><th scope=row>8</th><td>7</td><td>89975.70</td><td>17.584590</td><td>4.7286821</td><td>10001.99</td><td>23.304680</td><td>10002.74</td><td> 6.768317</td><td>3.913894e-01</td><td>135.36634</td><td>    1.956947</td><td>1.3536634</td><td>0.9994333</td><td>135.28962</td><td>    1.955838</td><td>1.3528962</td></tr>\n",
       "\t<tr><th scope=row>9</th><td>8</td><td>89966.36</td><td>24.324449</td><td>6.5281382</td><td>10002.79</td><td>32.642131</td><td>10003.13</td><td> 9.337450</td><td>3.913894e-01</td><td>186.74901</td><td>    1.956947</td><td>1.8674901</td><td>0.9993523</td><td>186.62806</td><td>    1.955680</td><td>1.8662806</td></tr>\n",
       "\t<tr><th scope=row>10</th><td>9</td><td>89953.47</td><td>33.626383</td><td>9.0177336</td><td>10003.89</td><td>45.535917</td><td>10003.52</td><td>12.893786</td><td>3.913894e-01</td><td>257.87572</td><td>    1.956947</td><td>2.5787572</td><td>0.9992714</td><td>257.68784</td><td>    1.955521</td><td>2.5768784</td></tr>\n",
       "</tbody>\n",
       "</table>\n"
      ],
      "text/latex": [
       "A data.frame: 10 × 16\n",
       "\\begin{tabular}{r|llllllllllllllll}\n",
       "  & time & S & E & I & R & C & V & daily\\_cases & daily\\_vacc & cost\\_cases & cost\\_vacc & qaly\\_lost & disc\\_factor & disc\\_cost\\_cases & disc\\_cost\\_vacc & disc\\_qaly\\_lost\\\\\n",
       "  & <dbl> & <dbl> & <dbl> & <dbl> & <dbl> & <dbl> & <dbl> & <dbl> & <dbl> & <dbl> & <dbl> & <dbl> & <dbl> & <dbl> & <dbl> & <dbl>\\\\\n",
       "\\hline\n",
       "\t1 & 0 & 89999.00 &  0.000000 & 1.0000000 & 10000.00 &  0.000000 & 10000.00 &  0.000000 & 1.000000e+04 &   0.00000 & 50000.000000 & 0.0000000 & 1.0000000 &   0.00000 & 50000.000000 & 0.0000000\\\\\n",
       "\t2 & 1 & 89997.39 &  1.515697 & 0.9596823 & 10000.14 &  1.613111 & 10000.39 &  1.613111 & 3.913894e-01 &  32.26221 &     1.956947 & 0.3226221 & 0.9999190 &  32.25960 &     1.956789 & 0.3225960\\\\\n",
       "\t3 & 2 & 89995.69 &  2.933648 & 1.0925381 & 10000.28 &  3.308755 & 10000.78 &  1.695644 & 3.913894e-01 &  33.91288 &     1.956947 & 0.3391288 & 0.9998380 &  33.90739 &     1.956630 & 0.3390739\\\\\n",
       "\t4 & 3 & 89993.64 &  4.518681 & 1.3805200 & 10000.46 &  5.356746 & 10001.17 &  2.047991 & 3.913894e-01 &  40.95982 &     1.956947 & 0.4095982 & 0.9997571 &  40.94987 &     1.956472 & 0.4094987\\\\\n",
       "\t5 & 4 & 89990.98 &  6.501839 & 1.8362832 & 10000.68 &  8.023543 & 10001.57 &  2.666797 & 3.913894e-01 &  53.33595 &     1.956947 & 0.5333595 & 0.9996761 &  53.31867 &     1.956313 & 0.5331867\\\\\n",
       "\t6 & 5 & 89987.38 &  9.127724 & 2.4981181 & 10000.99 & 11.618475 & 10001.96 &  3.594931 & 3.913894e-01 &  71.89863 &     1.956947 & 0.7189863 & 0.9995952 &  71.86952 &     1.956155 & 0.7186952\\\\\n",
       "\t7 & 6 & 89982.47 & 12.692983 & 3.4304522 & 10001.41 & 16.536363 & 10002.35 &  4.917889 & 3.913894e-01 &  98.35777 &     1.956947 & 0.9835777 & 0.9995142 &  98.30999 &     1.955997 & 0.9830999\\\\\n",
       "\t8 & 7 & 89975.70 & 17.584590 & 4.7286821 & 10001.99 & 23.304680 & 10002.74 &  6.768317 & 3.913894e-01 & 135.36634 &     1.956947 & 1.3536634 & 0.9994333 & 135.28962 &     1.955838 & 1.3528962\\\\\n",
       "\t9 & 8 & 89966.36 & 24.324449 & 6.5281382 & 10002.79 & 32.642131 & 10003.13 &  9.337450 & 3.913894e-01 & 186.74901 &     1.956947 & 1.8674901 & 0.9993523 & 186.62806 &     1.955680 & 1.8662806\\\\\n",
       "\t10 & 9 & 89953.47 & 33.626383 & 9.0177336 & 10003.89 & 45.535917 & 10003.52 & 12.893786 & 3.913894e-01 & 257.87572 &     1.956947 & 2.5787572 & 0.9992714 & 257.68784 &     1.955521 & 2.5768784\\\\\n",
       "\\end{tabular}\n"
      ],
      "text/markdown": [
       "\n",
       "A data.frame: 10 × 16\n",
       "\n",
       "| <!--/--> | time &lt;dbl&gt; | S &lt;dbl&gt; | E &lt;dbl&gt; | I &lt;dbl&gt; | R &lt;dbl&gt; | C &lt;dbl&gt; | V &lt;dbl&gt; | daily_cases &lt;dbl&gt; | daily_vacc &lt;dbl&gt; | cost_cases &lt;dbl&gt; | cost_vacc &lt;dbl&gt; | qaly_lost &lt;dbl&gt; | disc_factor &lt;dbl&gt; | disc_cost_cases &lt;dbl&gt; | disc_cost_vacc &lt;dbl&gt; | disc_qaly_lost &lt;dbl&gt; |\n",
       "|---|---|---|---|---|---|---|---|---|---|---|---|---|---|---|---|---|\n",
       "| 1 | 0 | 89999.00 |  0.000000 | 1.0000000 | 10000.00 |  0.000000 | 10000.00 |  0.000000 | 1.000000e+04 |   0.00000 | 50000.000000 | 0.0000000 | 1.0000000 |   0.00000 | 50000.000000 | 0.0000000 |\n",
       "| 2 | 1 | 89997.39 |  1.515697 | 0.9596823 | 10000.14 |  1.613111 | 10000.39 |  1.613111 | 3.913894e-01 |  32.26221 |     1.956947 | 0.3226221 | 0.9999190 |  32.25960 |     1.956789 | 0.3225960 |\n",
       "| 3 | 2 | 89995.69 |  2.933648 | 1.0925381 | 10000.28 |  3.308755 | 10000.78 |  1.695644 | 3.913894e-01 |  33.91288 |     1.956947 | 0.3391288 | 0.9998380 |  33.90739 |     1.956630 | 0.3390739 |\n",
       "| 4 | 3 | 89993.64 |  4.518681 | 1.3805200 | 10000.46 |  5.356746 | 10001.17 |  2.047991 | 3.913894e-01 |  40.95982 |     1.956947 | 0.4095982 | 0.9997571 |  40.94987 |     1.956472 | 0.4094987 |\n",
       "| 5 | 4 | 89990.98 |  6.501839 | 1.8362832 | 10000.68 |  8.023543 | 10001.57 |  2.666797 | 3.913894e-01 |  53.33595 |     1.956947 | 0.5333595 | 0.9996761 |  53.31867 |     1.956313 | 0.5331867 |\n",
       "| 6 | 5 | 89987.38 |  9.127724 | 2.4981181 | 10000.99 | 11.618475 | 10001.96 |  3.594931 | 3.913894e-01 |  71.89863 |     1.956947 | 0.7189863 | 0.9995952 |  71.86952 |     1.956155 | 0.7186952 |\n",
       "| 7 | 6 | 89982.47 | 12.692983 | 3.4304522 | 10001.41 | 16.536363 | 10002.35 |  4.917889 | 3.913894e-01 |  98.35777 |     1.956947 | 0.9835777 | 0.9995142 |  98.30999 |     1.955997 | 0.9830999 |\n",
       "| 8 | 7 | 89975.70 | 17.584590 | 4.7286821 | 10001.99 | 23.304680 | 10002.74 |  6.768317 | 3.913894e-01 | 135.36634 |     1.956947 | 1.3536634 | 0.9994333 | 135.28962 |     1.955838 | 1.3528962 |\n",
       "| 9 | 8 | 89966.36 | 24.324449 | 6.5281382 | 10002.79 | 32.642131 | 10003.13 |  9.337450 | 3.913894e-01 | 186.74901 |     1.956947 | 1.8674901 | 0.9993523 | 186.62806 |     1.955680 | 1.8662806 |\n",
       "| 10 | 9 | 89953.47 | 33.626383 | 9.0177336 | 10003.89 | 45.535917 | 10003.52 | 12.893786 | 3.913894e-01 | 257.87572 |     1.956947 | 2.5787572 | 0.9992714 | 257.68784 |     1.955521 | 2.5768784 |\n",
       "\n"
      ],
      "text/plain": [
       "   time S        E         I         R        C         V        daily_cases\n",
       "1  0    89999.00  0.000000 1.0000000 10000.00  0.000000 10000.00  0.000000  \n",
       "2  1    89997.39  1.515697 0.9596823 10000.14  1.613111 10000.39  1.613111  \n",
       "3  2    89995.69  2.933648 1.0925381 10000.28  3.308755 10000.78  1.695644  \n",
       "4  3    89993.64  4.518681 1.3805200 10000.46  5.356746 10001.17  2.047991  \n",
       "5  4    89990.98  6.501839 1.8362832 10000.68  8.023543 10001.57  2.666797  \n",
       "6  5    89987.38  9.127724 2.4981181 10000.99 11.618475 10001.96  3.594931  \n",
       "7  6    89982.47 12.692983 3.4304522 10001.41 16.536363 10002.35  4.917889  \n",
       "8  7    89975.70 17.584590 4.7286821 10001.99 23.304680 10002.74  6.768317  \n",
       "9  8    89966.36 24.324449 6.5281382 10002.79 32.642131 10003.13  9.337450  \n",
       "10 9    89953.47 33.626383 9.0177336 10003.89 45.535917 10003.52 12.893786  \n",
       "   daily_vacc   cost_cases cost_vacc    qaly_lost disc_factor disc_cost_cases\n",
       "1  1.000000e+04   0.00000  50000.000000 0.0000000 1.0000000     0.00000      \n",
       "2  3.913894e-01  32.26221      1.956947 0.3226221 0.9999190    32.25960      \n",
       "3  3.913894e-01  33.91288      1.956947 0.3391288 0.9998380    33.90739      \n",
       "4  3.913894e-01  40.95982      1.956947 0.4095982 0.9997571    40.94987      \n",
       "5  3.913894e-01  53.33595      1.956947 0.5333595 0.9996761    53.31867      \n",
       "6  3.913894e-01  71.89863      1.956947 0.7189863 0.9995952    71.86952      \n",
       "7  3.913894e-01  98.35777      1.956947 0.9835777 0.9995142    98.30999      \n",
       "8  3.913894e-01 135.36634      1.956947 1.3536634 0.9994333   135.28962      \n",
       "9  3.913894e-01 186.74901      1.956947 1.8674901 0.9993523   186.62806      \n",
       "10 3.913894e-01 257.87572      1.956947 2.5787572 0.9992714   257.68784      \n",
       "   disc_cost_vacc disc_qaly_lost\n",
       "1  50000.000000   0.0000000     \n",
       "2      1.956789   0.3225960     \n",
       "3      1.956630   0.3390739     \n",
       "4      1.956472   0.4094987     \n",
       "5      1.956313   0.5331867     \n",
       "6      1.956155   0.7186952     \n",
       "7      1.955997   0.9830999     \n",
       "8      1.955838   1.3528962     \n",
       "9      1.955680   1.8662806     \n",
       "10     1.955521   2.5768784     "
      ]
     },
     "metadata": {},
     "output_type": "display_data"
    }
   ],
   "source": [
    "# To define CEA model inputs\n",
    "cCase <- 20 # Avg cost per case of measles\n",
    "cVacc <- 5 # Avg cost per vaccination\n",
    "duCase <- 0.2 # Avg QALY loss per case of measles\n",
    "disc_rate <- 0.03 # Discount rate per year\n",
    "\n",
    "# To calculate costs & QALY losses\n",
    "df$cost_cases <- df[[\"daily_cases\"]] * cCase\n",
    "df$cost_vacc <- df[[\"daily_vacc\"]] * cVacc\n",
    "df$qaly_lost <- df[[\"daily_cases\"]] * duCase\n",
    "df$disc_factor <- 1 / (1 + disc_rate)^(df[[\"time\"]] / 365)\n",
    "df$disc_cost_cases <- df[[\"cost_cases\"]] * df[[\"disc_factor\"]]\n",
    "df$disc_cost_vacc <- df[[\"cost_vacc\"]] * df[[\"disc_factor\"]]\n",
    "df$disc_qaly_lost <- df[[\"qaly_lost\"]] * df[[\"disc_factor\"]]\n",
    "\n",
    "# To preview dataframe\n",
    "head(df, 10)"
   ]
  },
  {
   "cell_type": "code",
   "execution_count": 4,
   "id": "bb40aa42",
   "metadata": {
    "vscode": {
     "languageId": "r"
    }
   },
   "outputs": [
    {
     "name": "stdout",
     "output_type": "stream",
     "text": [
      "    daily_cases      daily_vacc      cost_cases       cost_vacc       qaly_lost \n",
      "      90128.477       10078.278     1802569.536       50391.389       18025.695 \n",
      "    disc_factor disc_cost_cases  disc_cost_vacc  disc_qaly_lost \n",
      "        199.381     1797898.856       50388.221       17978.989 \n"
     ]
    }
   ],
   "source": [
    "# To sum costs & QALY losses\n",
    "sum_df <- df[, 8:16] # To select columns 8 to 16\n",
    "print(colSums(sum_df)) # To sum columns"
   ]
  },
  {
   "cell_type": "code",
   "execution_count": 5,
   "id": "01134826",
   "metadata": {
    "vscode": {
     "languageId": "r"
    }
   },
   "outputs": [
    {
     "data": {
      "image/png": "[encoded data removed]",
      "text/plain": [
       "plot without title"
      ]
     },
     "metadata": {
      "image/png": {
       "height": 420,
       "width": 420
      }
     },
     "output_type": "display_data"
    }
   ],
   "source": [
    "# To plot model output\n",
    "sel_df <- df[, 1:5] # To select columns 1 to 5\n",
    "sel_df_long <- melt(as.data.frame(sel_df), id=\"time\") # To convert to long form\n",
    "plot <- ggplot(\n",
    "    data = sel_df_long,\n",
    "    aes(x = time, y = value, color = variable, group = variable)) +\n",
    "    geom_line() +\n",
    "    labs(\n",
    "        x = \"Time (days)\",\n",
    "        y = \"Population\",\n",
    "        color = \"Compartment\")\n",
    "print(plot)"
   ]
  }
 ],
 "metadata": {
  "kernelspec": {
   "display_name": "R",
   "language": "R",
   "name": "ir"
  },
  "language_info": {
   "codemirror_mode": "r",
   "file_extension": ".r",
   "mimetype": "text/x-r-source",
   "name": "R",
   "pygments_lexer": "r",
   "version": "4.5.1"
  }
 },
 "nbformat": 4,
 "nbformat_minor": 5
}
